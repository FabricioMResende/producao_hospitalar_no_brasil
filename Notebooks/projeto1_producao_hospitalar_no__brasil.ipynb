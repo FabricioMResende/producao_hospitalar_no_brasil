{
  "nbformat": 4,
  "nbformat_minor": 0,
  "metadata": {
    "colab": {
      "name": "projeto1_producao_hospitalar_no _brasil",
      "provenance": [],
      "mount_file_id": "1gBgBs-5cD8kiGMT4YeToLSlGZfG4EGBO",
      "authorship_tag": "ABX9TyPfsakPoLHkPJSbqO6cogVT",
      "include_colab_link": true
    },
    "kernelspec": {
      "name": "python3",
      "display_name": "Python 3"
    },
    "language_info": {
      "name": "python"
    }
  },
  "cells": [
    {
      "cell_type": "markdown",
      "metadata": {
        "id": "view-in-github",
        "colab_type": "text"
      },
      "source": [
        "<a href=\"https://colab.research.google.com/github/FabricioMResende/producao_hospitalar_no_brasil/blob/main/Notebooks/projeto1_producao_hospitalar_no__brasil.ipynb\" target=\"_parent\"><img src=\"https://colab.research.google.com/assets/colab-badge.svg\" alt=\"Open In Colab\"/></a>"
      ]
    },
    {
      "cell_type": "code",
      "metadata": {
        "id": "9Vc5I7QIaX6p"
      },
      "source": [
        "import pandas as pd"
      ],
      "execution_count": 1,
      "outputs": []
    },
    {
      "cell_type": "code",
      "metadata": {
        "id": "3iDwzrHD1C5J"
      },
      "source": [
        "URL = 'https://raw.githubusercontent.com/FabricioMResende/producao_hospitalar_no_brasil/main/Dados/covid19_marilia_sp.csv'"
      ],
      "execution_count": 2,
      "outputs": []
    },
    {
      "cell_type": "code",
      "metadata": {
        "id": "fVfczlKoqZqW"
      },
      "source": [
        "df = pd.read_csv(URL)"
      ],
      "execution_count": 5,
      "outputs": []
    },
    {
      "cell_type": "code",
      "metadata": {
        "colab": {
          "base_uri": "https://localhost:8080/",
          "height": 309
        },
        "id": "g-eCAzGFsodg",
        "outputId": "28f158a2-a232-4ecd-b224-fef1f4b4e779"
      },
      "source": [
        "df.head()"
      ],
      "execution_count": 6,
      "outputs": [
        {
          "output_type": "execute_result",
          "data": {
            "text/html": [
              "<div>\n",
              "<style scoped>\n",
              "    .dataframe tbody tr th:only-of-type {\n",
              "        vertical-align: middle;\n",
              "    }\n",
              "\n",
              "    .dataframe tbody tr th {\n",
              "        vertical-align: top;\n",
              "    }\n",
              "\n",
              "    .dataframe thead th {\n",
              "        text-align: right;\n",
              "    }\n",
              "</style>\n",
              "<table border=\"1\" class=\"dataframe\">\n",
              "  <thead>\n",
              "    <tr style=\"text-align: right;\">\n",
              "      <th></th>\n",
              "      <th>epidemiological_week</th>\n",
              "      <th>date</th>\n",
              "      <th>order_for_place</th>\n",
              "      <th>state</th>\n",
              "      <th>city</th>\n",
              "      <th>city_ibge_code</th>\n",
              "      <th>place_type</th>\n",
              "      <th>last_available_confirmed</th>\n",
              "      <th>last_available_confirmed_per_100k_inhabitants</th>\n",
              "      <th>new_confirmed</th>\n",
              "      <th>last_available_deaths</th>\n",
              "      <th>new_deaths</th>\n",
              "      <th>last_available_death_rate</th>\n",
              "      <th>estimated_population</th>\n",
              "      <th>is_last</th>\n",
              "      <th>is_repeated</th>\n",
              "    </tr>\n",
              "  </thead>\n",
              "  <tbody>\n",
              "    <tr>\n",
              "      <th>0</th>\n",
              "      <td>202124</td>\n",
              "      <td>2021-06-19</td>\n",
              "      <td>443</td>\n",
              "      <td>SP</td>\n",
              "      <td>Marília</td>\n",
              "      <td>3529005</td>\n",
              "      <td>city</td>\n",
              "      <td>25131</td>\n",
              "      <td>10445.57130</td>\n",
              "      <td>0</td>\n",
              "      <td>744</td>\n",
              "      <td>0</td>\n",
              "      <td>0.0296</td>\n",
              "      <td>240590</td>\n",
              "      <td>False</td>\n",
              "      <td>True</td>\n",
              "    </tr>\n",
              "    <tr>\n",
              "      <th>1</th>\n",
              "      <td>202124</td>\n",
              "      <td>2021-06-18</td>\n",
              "      <td>442</td>\n",
              "      <td>SP</td>\n",
              "      <td>Marília</td>\n",
              "      <td>3529005</td>\n",
              "      <td>city</td>\n",
              "      <td>25131</td>\n",
              "      <td>10445.57130</td>\n",
              "      <td>566</td>\n",
              "      <td>744</td>\n",
              "      <td>10</td>\n",
              "      <td>0.0296</td>\n",
              "      <td>240590</td>\n",
              "      <td>True</td>\n",
              "      <td>False</td>\n",
              "    </tr>\n",
              "    <tr>\n",
              "      <th>2</th>\n",
              "      <td>202124</td>\n",
              "      <td>2021-06-17</td>\n",
              "      <td>441</td>\n",
              "      <td>SP</td>\n",
              "      <td>Marília</td>\n",
              "      <td>3529005</td>\n",
              "      <td>city</td>\n",
              "      <td>24565</td>\n",
              "      <td>10210.31631</td>\n",
              "      <td>0</td>\n",
              "      <td>734</td>\n",
              "      <td>0</td>\n",
              "      <td>0.0299</td>\n",
              "      <td>240590</td>\n",
              "      <td>False</td>\n",
              "      <td>True</td>\n",
              "    </tr>\n",
              "    <tr>\n",
              "      <th>3</th>\n",
              "      <td>202124</td>\n",
              "      <td>2021-06-16</td>\n",
              "      <td>440</td>\n",
              "      <td>SP</td>\n",
              "      <td>Marília</td>\n",
              "      <td>3529005</td>\n",
              "      <td>city</td>\n",
              "      <td>24565</td>\n",
              "      <td>10210.31631</td>\n",
              "      <td>155</td>\n",
              "      <td>734</td>\n",
              "      <td>6</td>\n",
              "      <td>0.0299</td>\n",
              "      <td>240590</td>\n",
              "      <td>False</td>\n",
              "      <td>False</td>\n",
              "    </tr>\n",
              "    <tr>\n",
              "      <th>4</th>\n",
              "      <td>202124</td>\n",
              "      <td>2021-06-15</td>\n",
              "      <td>439</td>\n",
              "      <td>SP</td>\n",
              "      <td>Marília</td>\n",
              "      <td>3529005</td>\n",
              "      <td>city</td>\n",
              "      <td>24410</td>\n",
              "      <td>10145.89135</td>\n",
              "      <td>215</td>\n",
              "      <td>728</td>\n",
              "      <td>21</td>\n",
              "      <td>0.0298</td>\n",
              "      <td>240590</td>\n",
              "      <td>False</td>\n",
              "      <td>False</td>\n",
              "    </tr>\n",
              "  </tbody>\n",
              "</table>\n",
              "</div>"
            ],
            "text/plain": [
              "   epidemiological_week        date  ...  is_last is_repeated\n",
              "0                202124  2021-06-19  ...    False        True\n",
              "1                202124  2021-06-18  ...     True       False\n",
              "2                202124  2021-06-17  ...    False        True\n",
              "3                202124  2021-06-16  ...    False       False\n",
              "4                202124  2021-06-15  ...    False       False\n",
              "\n",
              "[5 rows x 16 columns]"
            ]
          },
          "metadata": {
            "tags": []
          },
          "execution_count": 6
        }
      ]
    },
    {
      "cell_type": "code",
      "metadata": {
        "id": "yu9DO44jstKs"
      },
      "source": [
        ""
      ],
      "execution_count": 4,
      "outputs": []
    }
  ]
}